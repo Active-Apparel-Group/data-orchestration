{
 "cells": [
  {
   "cell_type": "markdown",
   "id": "5310b613",
   "metadata": {},
   "source": [
    "# Duplicate Column Diagnosis - ORDER_LIST Transform Pipeline\n",
    "\n",
    "## Problem Analysis\n",
    "The ORDER_LIST transformation pipeline is failing with duplicate column errors:\n",
    "- **Error**: \"The column name '36X30' is specified more than once in the SET clause\"\n",
    "- **Additional duplicates**: '40X30', 'ONE SIZE'\n",
    "- **Impact**: SQL INSERT statements cannot execute due to duplicate column names\n",
    "\n",
    "## Investigation Approach\n",
    "1. **DDL Schema Analysis** - Parse the DDL file to identify exact duplicate column definitions\n",
    "2. **YAML Mapping Analysis** - Check for duplicate aliases or mapping conflicts\n",
    "3. **DataFrame Column Analysis** - Identify where duplicates are introduced during transformation\n",
    "4. **Root Cause Analysis** - Pinpoint the exact source of duplicate column names\n",
    "5. **Fix Strategy Generation** - Create actionable solutions to resolve duplicates\n",
    "\n",
    "## Key Questions\n",
    "- Are duplicates in the DDL schema itself?\n",
    "- Are duplicates created by YAML alias mapping?\n",
    "- Are duplicates introduced during DataFrame consolidation?\n",
    "- How can we fix the schema to prevent future duplicates?"
   ]
  },
  {
   "cell_type": "markdown",
   "id": "889c2528",
   "metadata": {},
   "source": [
    "## 1. Import Required Libraries\n",
    "Import necessary libraries for analyzing DDL schema, YAML metadata, and generating fixes."
   ]
  },
  {
   "cell_type": "code",
   "execution_count": null,
   "id": "bc66ceab",
   "metadata": {},
   "outputs": [],
   "source": [
    "import sys\n",
    "import re\n",
    "import yaml\n",
    "import pandas as pd\n",
    "from pathlib import Path\n",
    "from typing import Dict, List, Set, Tuple, Any\n",
    "from collections import Counter, defaultdict\n",
    "\n",
    "# Standard import pattern for project utilities\n",
    "def find_repo_root() -> Path:\n",
    "    \"\"\"Find repository root by looking for utils folder\"\"\"\n",
    "    current = Path(__file__).parent if '__file__' in globals() else Path.cwd()\n",
    "    while current != current.parent:\n",
    "        if (current / \"utils\").exists():\n",
    "            return current\n",
    "        current = current.parent\n",
    "    raise FileNotFoundError(\"Could not find repository root\")\n",
    "\n",
    "repo_root = find_repo_root()\n",
    "sys.path.insert(0, str(repo_root / \"utils\"))\n",
    "\n",
    "# Import project utilities\n",
    "import db_helper as db\n",
    "import logger_helper\n",
    "\n",
    "# Initialize logger\n",
    "logger = logger_helper.get_logger(__name__)\n",
    "\n",
    "print(\"✅ All libraries imported successfully\")\n",
    "print(f\"📁 Repository root: {repo_root}\")\n",
    "print(f\"📁 Working directory: {Path.cwd()}\")\n",
    "print(f\"🔧 Python path updated with utils: {str(repo_root / 'utils')}\")"
   ]
  }
 ],
 "metadata": {
  "language_info": {
   "name": "python"
  }
 },
 "nbformat": 4,
 "nbformat_minor": 5
}
